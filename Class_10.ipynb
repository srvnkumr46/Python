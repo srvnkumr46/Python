{
 "cells": [
  {
   "cell_type": "markdown",
   "metadata": {},
   "source": [
    "Class and objects\n"
   ]
  },
  {
   "cell_type": "code",
   "execution_count": 12,
   "metadata": {},
   "outputs": [
    {
     "name": "stdout",
     "output_type": "stream",
     "text": [
      "Institute:GUVI,Name:a,Roll number:1,\n",
      "Institute:GUVI,Name:b,Roll number:1\n"
     ]
    }
   ],
   "source": [
    "class student:\n",
    "    institute=\"GUVI\"\n",
    "    def __init__(self):\n",
    "        self.name=input(\"Enter your name:\")\n",
    "        self.roll = input(\"Enter the roll number:\")\n",
    "s1=student()\n",
    "s2=student()\n",
    "print(f\"Institute:{s1.institute},Name:{s1.name},Roll number:{s1.roll},\")\n",
    "print(f\"Institute:{s2.institute},Name:{s2.name},Roll number:{s2.roll}\")\n",
    "        "
   ]
  },
  {
   "cell_type": "code",
   "execution_count": 27,
   "metadata": {},
   "outputs": [
    {
     "name": "stdout",
     "output_type": "stream",
     "text": [
      "Institute:GUVI,Name:1,Roll number:a,\n",
      "Institute:GUVI,Name:2,Roll number:b DA\n"
     ]
    }
   ],
   "source": [
    "class student:\n",
    "    institute=\"GUVI\"\n",
    "    def __init__(self,user_name,roll_number):\n",
    "        self.name=user_name\n",
    "        self.roll = roll_number\n",
    "    def courses(self):\n",
    "        self.institute=\"GUVI\"\n",
    "        self.course=input(\"Enter your course name:\")\n",
    "        \n",
    "        \n",
    "s1=student(1,'a') # s1 ans s2 are the objects of the class student \n",
    "s2=student(2,'b')\n",
    "s2.courses()\n",
    "print(f\"Institute:{s1.institute},Name:{s1.name},Roll number:{s1.roll},\")\n",
    "print(f\"Institute:{s2.institute},Name:{s2.name},Roll number:{s2.roll}\",s2.course)"
   ]
  },
  {
   "cell_type": "code",
   "execution_count": 36,
   "metadata": {},
   "outputs": [
    {
     "name": "stdout",
     "output_type": "stream",
     "text": [
      "Institute:GUVI,Name:1,Roll number:a,Course:AI,Marks:130,Percentage:92.86\n",
      "Institute:GUVI,Name:2,Roll number:b,Course:DA,Marks:100,Percentage:76.92\n"
     ]
    }
   ],
   "source": [
    "class student:\n",
    "    institute=\"GUVI\"\n",
    "    max_marks=140\n",
    "    def __init__(self,user_name,roll_number,course,marks):\n",
    "        self.name=user_name\n",
    "        self.roll = roll_number   \n",
    "        self.course=course\n",
    "        self.marks= marks        \n",
    "    def calculatepercentage(self,max_marks):\n",
    "        self.percentage=round(self.marks*100/max_marks,2)\n",
    "\n",
    "        \n",
    "s1=student(1,'a','AI',130) # s1 ans s2 are the objects of the class student \n",
    "s2=student(2,'b','DA',100)\n",
    "s1.calculatepercentage(140)\n",
    "s2.calculatepercentage(130)\n",
    "\n",
    "print(f\"Institute:{s1.institute},Name:{s1.name},Roll number:{s1.roll},Course:{s1.course},Marks:{s1.marks},Percentage:{s1.percentage}\")\n",
    "print(f\"Institute:{s2.institute},Name:{s2.name},Roll number:{s2.roll},Course:{s2.course},Marks:{s2.marks},Percentage:{s2.percentage}\")"
   ]
  },
  {
   "cell_type": "code",
   "execution_count": 44,
   "metadata": {},
   "outputs": [
    {
     "name": "stdout",
     "output_type": "stream",
     "text": [
      "The car is starting\n",
      "The car is stoping\n",
      "make:mahindra,model:XUV300,year:2024\n"
     ]
    }
   ],
   "source": [
    "class car:\n",
    "    def __init__(self,make,model,year):\n",
    "        self.make=make\n",
    "        self.model=model\n",
    "        self.year=year\n",
    "    def start(self):\n",
    "        print(\"The car is starting\")\n",
    "    def stop(self):\n",
    "        print(\"The car is stoping\")        \n",
    "    def getinfo(self):\n",
    "        return f\"make:{self.make},model:{self.model},year:{self.year}\"\n",
    "xuv300=car(\"mahindra\",\"XUV300\",2024)\n",
    "xuv300.start()\n",
    "xuv300.stop()\n",
    "xuv300.getinfo()\n",
    "print(xuv300.getinfo())"
   ]
  },
  {
   "cell_type": "markdown",
   "metadata": {},
   "source": [
    "File Handling in JSON\n"
   ]
  },
  {
   "cell_type": "code",
   "execution_count": 64,
   "metadata": {},
   "outputs": [
    {
     "name": "stdout",
     "output_type": "stream",
     "text": [
      "XUV300\n",
      "{'make': 'mahindra', 'model': 'XUV300', 'year': 2024}\n"
     ]
    }
   ],
   "source": [
    "import json\n",
    "\n",
    "data = xuv300.__dict__\n",
    "data\n",
    "with open(\"car.json\",\"w\") as myfile:\n",
    "    json.dump(data,myfile)\n",
    "with open(\"car.json\",\"r\") as myfile:\n",
    "    data = json.load(myfile)\n",
    "print(data['model'])\n",
    "print(data)"
   ]
  },
  {
   "cell_type": "code",
   "execution_count": 1,
   "metadata": {},
   "outputs": [
    {
     "name": "stdout",
     "output_type": "stream",
     "text": [
      "Institute:GUVI,Name:1,Roll number:a,\n",
      "Institute:GUVI,Name:2,Roll number:b\n",
      "[{'name': 1, 'roll': 'a'}, {'name': 2, 'roll': 'b', 'institute': 'GUVI'}]\n"
     ]
    }
   ],
   "source": [
    "import json\n",
    "class student:\n",
    "    institute=\"GUVI\"\n",
    "    def __init__(self,user_name,roll_number):\n",
    "        self.name=user_name\n",
    "        self.roll = roll_number\n",
    "    def courses(self):\n",
    "        self.institute=\"GUVI\"\n",
    "\n",
    "s1=student(1,'a') # s1 ans s2 are the objects of the class student \n",
    "s2=student(2,'b')\n",
    "\n",
    "s2.courses()\n",
    "print(f\"Institute:{s1.institute},Name:{s1.name},Roll number:{s1.roll},\")\n",
    "print(f\"Institute:{s2.institute},Name:{s2.name},Roll number:{s2.roll}\")\n",
    "\n",
    "students=[s1.__dict__,s2.__dict__]\n",
    "with open(\"student.json\",\"w\") as myfile:\n",
    "    json.dump(students,myfile)\n",
    "with open(\"student.json\",\"r\") as myfile:\n",
    "    data = json.load(myfile)\n",
    "\n",
    "\n",
    "print(data)"
   ]
  }
 ],
 "metadata": {
  "kernelspec": {
   "display_name": "base",
   "language": "python",
   "name": "python3"
  },
  "language_info": {
   "codemirror_mode": {
    "name": "ipython",
    "version": 3
   },
   "file_extension": ".py",
   "mimetype": "text/x-python",
   "name": "python",
   "nbconvert_exporter": "python",
   "pygments_lexer": "ipython3",
   "version": "3.12.4"
  }
 },
 "nbformat": 4,
 "nbformat_minor": 2
}
