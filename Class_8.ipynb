{
 "cells": [
  {
   "cell_type": "code",
   "execution_count": 12,
   "metadata": {},
   "outputs": [
    {
     "data": {
      "text/plain": [
       "[{'name': 'saravana', 'age': 30, 'email': 'a.gmail.com', 'salary': 8.0}]"
      ]
     },
     "execution_count": 12,
     "metadata": {},
     "output_type": "execute_result"
    }
   ],
   "source": [
    "n = int(input(\"Enter the number of employees :\"))\n",
    "platinum_users=[]\n",
    "for i in range(n):\n",
    "    if i<1:\n",
    "        name = input(\"Enter the name of {}st the employee:\".format(i+1))\n",
    "        age = int(input(\"Enter the age of {}st the employee:\".format(i+1)))\n",
    "    else:\n",
    "        name = input(\"Enter the name of {}nd the employee:\".format(i+1))\n",
    "        age = int(input(\"Enter the age of {}nd the employee:\".format(i+1)))\n",
    "    email = input(\"Enter the email:\")\n",
    "    salary = float(input(\"Enter the salary:\"))\n",
    "    \n",
    "    if salary>7.5:\n",
    "        platinum_users.append({'name':name,'age':age,'email':email,'salary':salary})\n",
    "platinum_users"
   ]
  },
  {
   "cell_type": "code",
   "execution_count": 13,
   "metadata": {},
   "outputs": [
    {
     "ename": "ZeroDivisionError",
     "evalue": "division by zero",
     "output_type": "error",
     "traceback": [
      "\u001b[1;31m---------------------------------------------------------------------------\u001b[0m",
      "\u001b[1;31mZeroDivisionError\u001b[0m                         Traceback (most recent call last)",
      "Cell \u001b[1;32mIn[13], line 1\u001b[0m\n\u001b[1;32m----> 1\u001b[0m n\u001b[38;5;241m=\u001b[39m\u001b[38;5;241;43m100\u001b[39;49m\u001b[38;5;241;43m/\u001b[39;49m\u001b[38;5;241;43m0\u001b[39;49m\n\u001b[0;32m      2\u001b[0m \u001b[38;5;28mprint\u001b[39m(n)\n",
      "\u001b[1;31mZeroDivisionError\u001b[0m: division by zero"
     ]
    }
   ],
   "source": [
    "n=100/0\n",
    "print(n)"
   ]
  },
  {
   "cell_type": "code",
   "execution_count": 14,
   "metadata": {},
   "outputs": [
    {
     "name": "stdout",
     "output_type": "stream",
     "text": [
      "Not divided by 0 \n"
     ]
    }
   ],
   "source": [
    "try:\n",
    "    0/0\n",
    "except ZeroDivisionError as ze:\n",
    "    print(\"Not divided by 0 \")"
   ]
  },
  {
   "cell_type": "code",
   "execution_count": 16,
   "metadata": {},
   "outputs": [
    {
     "data": {
      "text/plain": [
       "[18.181818181818183,\n",
       " 36.36363636363637,\n",
       " 54.54545454545455,\n",
       " 72.72727272727273,\n",
       " 90.9090909090909]"
      ]
     },
     "execution_count": 16,
     "metadata": {},
     "output_type": "execute_result"
    }
   ],
   "source": [
    "data=[10,20,30,40,50]\n",
    "percentage = []\n",
    "for i in data:\n",
    "    p=i*100/55\n",
    "    percentage.append(p)\n",
    "percentage"
   ]
  },
  {
   "cell_type": "code",
   "execution_count": 21,
   "metadata": {},
   "outputs": [
    {
     "data": {
      "text/plain": [
       "[18.181818181818183,\n",
       " 36.36363636363637,\n",
       " 54.54545454545455,\n",
       " 72.72727272727273,\n",
       " 90.9090909090909]"
      ]
     },
     "execution_count": 21,
     "metadata": {},
     "output_type": "execute_result"
    }
   ],
   "source": [
    "pecentage=[i*100/55 for i in data]\n",
    "percentage"
   ]
  },
  {
   "cell_type": "code",
   "execution_count": 1,
   "metadata": {},
   "outputs": [
    {
     "name": "stdout",
     "output_type": "stream",
     "text": [
      "Percentage of student 1 is 94.54545454545455.\n",
      "Percentage of student 2 is 63.63636363636363.\n"
     ]
    }
   ],
   "source": [
    "students = int(input(\"Enter the number of students:\"))\n",
    "marks = []\n",
    "percentage={}                                                                                                                                           \n",
    "for i in range(students):\n",
    "    m=int(input(\"Enter the mark of {} student\".format(i+1)))\n",
    "    marks.append(m)\n",
    "percentage=[i*100/55 for i in marks]\n",
    "percentage\n",
    "for i in range(len(percentage)):\n",
    "    print(\"Percentage of student {} is {}.\".format(i+1, percentage[i]))"
   ]
  },
  {
   "cell_type": "markdown",
   "metadata": {},
   "source": [
    "List compernhension\n"
   ]
  },
  {
   "cell_type": "code",
   "execution_count": 35,
   "metadata": {},
   "outputs": [
    {
     "data": {
      "text/plain": [
       "[3.64, 36.36, 41.82, 45.45, 47.27]"
      ]
     },
     "execution_count": 35,
     "metadata": {},
     "output_type": "execute_result"
    }
   ],
   "source": [
    "percentage = [round(float(input(\"Enter the marks\"))*100/55,2) for i in range(5)]\n",
    "percentage                                                                                                                                  "
   ]
  },
  {
   "cell_type": "code",
   "execution_count": 39,
   "metadata": {},
   "outputs": [
    {
     "data": {
      "text/plain": [
       "[47.27272727272727, 45.45454545454545]"
      ]
     },
     "execution_count": 39,
     "metadata": {},
     "output_type": "execute_result"
    }
   ],
   "source": [
    "marks=[50,35,26,35,25,100]\n",
    "percentage=[i*100/55 for i in marks if i<35]\n",
    "percentage"
   ]
  },
  {
   "cell_type": "markdown",
   "metadata": {},
   "source": [
    "File Operations "
   ]
  },
  {
   "cell_type": "code",
   "execution_count": 48,
   "metadata": {},
   "outputs": [],
   "source": [
    "with open(\"example.txt\",\"w\") as my_file:\n",
    "    my_file.write(\"I am learning python\")\n",
    "    my_file.write(\"\\nI am learning python\")"
   ]
  },
  {
   "cell_type": "code",
   "execution_count": 52,
   "metadata": {},
   "outputs": [],
   "source": [
    "with open(\"example.txt\",\"a\") as my_file:\n",
    "    my_file.write(\"\\nI am learning ML\")\n",
    "    my_file.write(\"\\nI am learning ML\")\n",
    "    "
   ]
  },
  {
   "cell_type": "code",
   "execution_count": 1,
   "metadata": {},
   "outputs": [
    {
     "name": "stdout",
     "output_type": "stream",
     "text": [
      "I am learning python\n",
      "I am learning python\n",
      "I am learning ML\n",
      "I am learning ML\n",
      "I am learning ML\n",
      "I am learning ML\n",
      "I am learning ML\n",
      "I am learning ML\n"
     ]
    }
   ],
   "source": [
    "with open(\"example.txt\",\"r\") as my_file:    \n",
    "    data = my_file.read()\n",
    "print(data)\n",
    "    "
   ]
  }
 ],
 "metadata": {
  "kernelspec": {
   "display_name": "Python 3",
   "language": "python",
   "name": "python3"
  },
  "language_info": {
   "codemirror_mode": {
    "name": "ipython",
    "version": 3
   },
   "file_extension": ".py",
   "mimetype": "text/x-python",
   "name": "python",
   "nbconvert_exporter": "python",
   "pygments_lexer": "ipython3",
   "version": "3.10.5"
  }
 },
 "nbformat": 4,
 "nbformat_minor": 2
}
