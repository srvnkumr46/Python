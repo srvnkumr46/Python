{
 "cells": [
  {
   "cell_type": "code",
   "execution_count": 27,
   "metadata": {},
   "outputs": [
    {
     "name": "stdout",
     "output_type": "stream",
     "text": [
      "kumar \n",
      "SAravana\n",
      "sa\n",
      "\n"
     ]
    }
   ],
   "source": [
    "count = int(input(\"Enter the number of employees :\"))\n",
    "\n",
    "for i in range(count):     \n",
    "    with open(\"Employeenames.txt\",\"a\") as myfile:\n",
    "        names = input(f\"Enter the employee number {i+1}th name:\")   \n",
    "        myfile.write(names)\n",
    "        myfile.write(\"\\n\")\n",
    "with open(\"Employeenames.txt\",\"r\") as myfile:    \n",
    "    print(myfile.read())\n",
    "\n"
   ]
  },
  {
   "cell_type": "markdown",
   "metadata": {},
   "source": [
    "Functions\n",
    "# Lamda\n"
   ]
  },
  {
   "cell_type": "code",
   "execution_count": 29,
   "metadata": {},
   "outputs": [
    {
     "data": {
      "text/plain": [
       "20"
      ]
     },
     "execution_count": 29,
     "metadata": {},
     "output_type": "execute_result"
    }
   ],
   "source": [
    "def multilication(x,y):\n",
    "    result = x*y\n",
    "    return result\n",
    "multilication(10,2)"
   ]
  },
  {
   "cell_type": "code",
   "execution_count": 32,
   "metadata": {},
   "outputs": [
    {
     "data": {
      "text/plain": [
       "300"
      ]
     },
     "execution_count": 32,
     "metadata": {},
     "output_type": "execute_result"
    }
   ],
   "source": [
    "mul=lambda x,y: x*y\n",
    "mul(10,30)"
   ]
  },
  {
   "cell_type": "code",
   "execution_count": 38,
   "metadata": {},
   "outputs": [
    {
     "data": {
      "text/plain": [
       "'Saravana Kumar'"
      ]
     },
     "execution_count": 38,
     "metadata": {},
     "output_type": "execute_result"
    }
   ],
   "source": [
    "f_name = input(\"Enter the first name:\")\n",
    "l_name = input(\"Enter the last name:\")\n",
    "fullname = lambda f_name,l_name:f_name+\" \"+l_name\n",
    "fullname(f_name,l_name)\n"
   ]
  },
  {
   "cell_type": "markdown",
   "metadata": {},
   "source": [
    "Maps\n"
   ]
  },
  {
   "cell_type": "code",
   "execution_count": 9,
   "metadata": {},
   "outputs": [
    {
     "name": "stdout",
     "output_type": "stream",
     "text": [
      "Requirement already satisfied: pandas==2.2.2 in c:\\python310\\lib\\site-packages (2.2.2)\n",
      "Requirement already satisfied: numpy>=1.22.4 in c:\\python310\\lib\\site-packages (from pandas==2.2.2) (1.26.4)\n",
      "Requirement already satisfied: python-dateutil>=2.8.2 in c:\\users\\sm\\appdata\\roaming\\python\\python310\\site-packages (from pandas==2.2.2) (2.9.0.post0)\n",
      "Requirement already satisfied: pytz>=2020.1 in c:\\python310\\lib\\site-packages (from pandas==2.2.2) (2024.1)\n",
      "Requirement already satisfied: tzdata>=2022.7 in c:\\python310\\lib\\site-packages (from pandas==2.2.2) (2024.1)\n",
      "Requirement already satisfied: six>=1.5 in c:\\users\\sm\\appdata\\roaming\\python\\python310\\site-packages (from python-dateutil>=2.8.2->pandas==2.2.2) (1.16.0)\n"
     ]
    }
   ],
   "source": [
    "!pip install pandas==2.2.2"
   ]
  },
  {
   "cell_type": "code",
   "execution_count": 12,
   "metadata": {},
   "outputs": [
    {
     "data": {
      "text/plain": [
       "'2.2.1'"
      ]
     },
     "execution_count": 12,
     "metadata": {},
     "output_type": "execute_result"
    }
   ],
   "source": [
    "import pandas as pd\n",
    "pd.__version__"
   ]
  },
  {
   "cell_type": "code",
   "execution_count": 20,
   "metadata": {},
   "outputs": [
    {
     "name": "stdout",
     "output_type": "stream",
     "text": [
      "[20, 30, 40, 50]\n"
     ]
    }
   ],
   "source": [
    "marks = [20,30,40,50]\n",
    "with open(\"data.txt\",'w') as file:\n",
    "    file.write(str(marks))\n",
    "with open(\"data.txt\",'r') as files:\n",
    "    data = files.read()                                    \n",
    "print(data)"
   ]
  },
  {
   "cell_type": "code",
   "execution_count": 40,
   "metadata": {},
   "outputs": [],
   "source": [
    "import pickle as pc\n",
    "marks = [20,30,40,50,60]\n",
    "with open(\"data.pkl\",'wb+') as file:\n",
    "    pc.dump(marks,file)\n"
   ]
  },
  {
   "cell_type": "code",
   "execution_count": 45,
   "metadata": {},
   "outputs": [
    {
     "name": "stdout",
     "output_type": "stream",
     "text": [
      "[20, 30, 40, 50, 60]\n",
      "[20, 30, 40, 50, 60]\n",
      "[20, 30, 40, 50, 60]\n",
      "[20, 30, 40, 50, 60]\n",
      "[20, 30, 40, 50, 60]\n"
     ]
    }
   ],
   "source": [
    "with open(\"data.pkl\",'rb') as file:\n",
    "    data = pc.load(file)  \n",
    "data"
   ]
  },
  {
   "cell_type": "code",
   "execution_count": 49,
   "metadata": {},
   "outputs": [
    {
     "data": {
      "text/plain": [
       "[{'name': 'a', 'age': 25, 'height': 2.3, 'email': 'a.gmail.com'},\n",
       " {'name': 'b', 'age': 35, 'height': 6.5, 'email': 'b@gmail.com'}]"
      ]
     },
     "execution_count": 49,
     "metadata": {},
     "output_type": "execute_result"
    }
   ],
   "source": [
    "n = int(input(\"Enter the number of students:\"))\n",
    "students=[]\n",
    "for i in range(n):\n",
    "    name=input(\"Enter the name of the student:\")\n",
    "    age=int(input(\"Enter the age of the student\"))\n",
    "    height=float(input(\"Enter the height of the student\"))\n",
    "    email=input(\"ENter your email\")\n",
    "    studentsinfo = {'name':name,'age':age,'height':height,'email':email}\n",
    "    students.append(studentsinfo)\n",
    "with open(\"student_info.pkl\",'wb') as f:\n",
    "    pc.dump(students,f)\n",
    "with open(\"student_info.pkl\",'rb') as file:\n",
    "    data = pc.load(file)  \n",
    "data"
   ]
  },
  {
   "cell_type": "code",
   "execution_count": null,
   "metadata": {},
   "outputs": [],
   "source": [
    "a=[1,2,3,4,5]\n",
    "for i in range("
   ]
  }
 ],
 "metadata": {
  "kernelspec": {
   "display_name": "Python 3",
   "language": "python",
   "name": "python3"
  },
  "language_info": {
   "codemirror_mode": {
    "name": "ipython",
    "version": 3
   },
   "file_extension": ".py",
   "mimetype": "text/x-python",
   "name": "python",
   "nbconvert_exporter": "python",
   "pygments_lexer": "ipython3",
   "version": "3.10.5"
  }
 },
 "nbformat": 4,
 "nbformat_minor": 2
}
