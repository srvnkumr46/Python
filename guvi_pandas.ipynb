{
 "cells": [
  {
   "cell_type": "code",
   "execution_count": 19,
   "metadata": {},
   "outputs": [
    {
     "name": "stdout",
     "output_type": "stream",
     "text": [
      "{'c', 'b', 'a', '1'}\n"
     ]
    },
    {
     "data": {
      "text/plain": [
       "{'1', 'a', 'b', 'c'}"
      ]
     },
     "execution_count": 19,
     "metadata": {},
     "output_type": "execute_result"
    }
   ],
   "source": [
    "data = set()\n",
    "data.add('a')\n",
    "data.add('b')\n",
    "data.add('c')\n",
    "data.add('1')\n",
    "data\n",
    "print(data)\n",
    "data.add('b')\n"
   ]
  },
  {
   "cell_type": "markdown",
   "metadata": {},
   "source": [
    "Conditional Statements"
   ]
  },
  {
   "cell_type": "code",
   "execution_count": 32,
   "metadata": {},
   "outputs": [
    {
     "name": "stdout",
     "output_type": "stream",
     "text": [
      "inside elif\n",
      "inside elif\n",
      "inside elif\n",
      "inside if\n"
     ]
    }
   ],
   "source": [
    "age = set()\n",
    "age = (13,15,14,18)\n",
    "\n",
    "for x in age :\n",
    "    if x == 18 : \n",
    "        print('inside if')\n",
    "    elif x <= 17 :\n",
    "        print('inside elif')\n",
    "    else :\n",
    "        print('inside else')\n",
    "    "
   ]
  },
  {
   "cell_type": "code",
   "execution_count": 39,
   "metadata": {},
   "outputs": [
    {
     "name": "stdout",
     "output_type": "stream",
     "text": [
      "For salary 123456.0,Tax is 37036.799999999996 in RS\n"
     ]
    }
   ],
   "source": [
    "salary = input('Enter the salary ')\n",
    "salary = float(salary)\n",
    "tax = 0\n",
    "if salary<10000:\n",
    "    tax=0.1*salary\n",
    "elif salary <15000:\n",
    "    tax=0.2*salary\n",
    "else:\n",
    "    tax=0.3*salary\n",
    "    \n",
    "print(f\"For salary {salary},Tax is {tax} in RS\")"
   ]
  },
  {
   "cell_type": "code",
   "execution_count": 44,
   "metadata": {},
   "outputs": [
    {
     "name": "stdout",
     "output_type": "stream",
     "text": [
      "F\n"
     ]
    }
   ],
   "source": [
    "marks = input('Enter the salary')\n",
    "marks = float(marks)\n",
    "if marks >=90:\n",
    "    print ('A+')\n",
    "elif marks >=80 and marks<90:\n",
    "    print('A-')\n",
    "elif marks >=70 and marks<80:\n",
    "    print('B+')\n",
    "elif marks >=60 and marks<70:\n",
    "    print('B-')\n",
    "elif marks >=50 and marks<60:\n",
    "    print('C+')\n",
    "elif marks >=40 and marks<50:\n",
    "    print('C-')\n",
    "elif marks >=30 and marks<40:\n",
    "    print('D')\n",
    "else:\n",
    "    print('F')\n",
    "\n",
    "# need to check the between in the if statement \n"
   ]
  },
  {
   "cell_type": "markdown",
   "metadata": {},
   "source": [
    "Loops|\n"
   ]
  },
  {
   "cell_type": "code",
   "execution_count": 50,
   "metadata": {},
   "outputs": [
    {
     "name": "stdout",
     "output_type": "stream",
     "text": [
      "2\n",
      "4\n",
      "8\n",
      "10\n"
     ]
    }
   ],
   "source": [
    "marks = [1,2,3,4,5]\n",
    "for x in marks:\n",
    "    updatedmarks = x*2\n",
    "    if x == 2:\n",
    "        print(updatedmarks)\n",
    "    elif x !=3:\n",
    "        print(updatedmarks)"
   ]
  },
  {
   "cell_type": "code",
   "execution_count": 5,
   "metadata": {},
   "outputs": [
    {
     "name": "stdout",
     "output_type": "stream",
     "text": [
      "1234\n",
      "123454\n",
      "12134\n",
      "12134\n",
      "11234\n",
      "For salary 11234.0,Tax is 2246.8 in RS\n"
     ]
    }
   ],
   "source": [
    "index =[1,2,3,4,5]\n",
    "salaries = []\n",
    "for x in index:\n",
    "    salaries = input(f'enter the person {x} salary')\n",
    "    salary = float(salaries)\n",
    "    tax = 0\n",
    "    if salary<10000:\n",
    "        tax=0.1*salary\n",
    "    elif salary <15000:\n",
    "        tax=0.2*salary\n",
    "    else:\n",
    "        tax=0.3*salary    \n",
    "    print(salaries)\n",
    "print(f\"For salary {salary},Tax is {tax} in RS\")\n"
   ]
  },
  {
   "cell_type": "markdown",
   "metadata": {},
   "source": [
    "nested for loop\n"
   ]
  },
  {
   "cell_type": "code",
   "execution_count": 13,
   "metadata": {},
   "outputs": [
    {
     "name": "stdout",
     "output_type": "stream",
     "text": [
      "2X1=2\n",
      "2X2=4\n",
      "2X3=6\n",
      "2X4=8\n",
      "2X5=10\n",
      "2X6=12\n",
      "2X7=14\n",
      "2X8=16\n",
      "2X9=18\n",
      "2X10=20\n"
     ]
    }
   ],
   "source": [
    "n= int(input('Enter the number:  '))\n",
    "for i in range(2,n+1):\n",
    "    for j in range(1,11):\n",
    "        print(f\"{i}X{j}={i*j}\")"
   ]
  },
  {
   "cell_type": "code",
   "execution_count": 10,
   "metadata": {},
   "outputs": [
    {
     "name": "stdout",
     "output_type": "stream",
     "text": [
      "[0, 1, 1, 2, 3, 5]\n"
     ]
    }
   ],
   "source": [
    "n= int(input('Enter the number for that you need the fibonbacci series:  '))\n",
    "x=0\n",
    "y=1\n",
    "series = [x,y]\n",
    "for i in range(2,n+1):\n",
    "    series.append(x+y)\n",
    "    x,y=y,x+y\n",
    "print(series)\n"
   ]
  },
  {
   "cell_type": "code",
   "execution_count": 15,
   "metadata": {},
   "outputs": [
    {
     "name": "stdout",
     "output_type": "stream",
     "text": [
      "3\n",
      "4\n",
      "5\n"
     ]
    }
   ],
   "source": [
    "x = range(3, 6)\n",
    "for n in x:\n",
    "  print(n)"
   ]
  },
  {
   "cell_type": "markdown",
   "metadata": {},
   "source": [
    "While loop\n"
   ]
  },
  {
   "cell_type": "code",
   "execution_count": 1,
   "metadata": {},
   "outputs": [
    {
     "name": "stdout",
     "output_type": "stream",
     "text": [
      "1\n",
      "2\n",
      "3\n",
      "4\n",
      "5\n",
      "6\n",
      "7\n",
      "8\n",
      "9\n",
      "10\n",
      "done with the run \n"
     ]
    }
   ],
   "source": [
    "n= 10\n",
    "i = 1\n",
    "\n",
    "while i<=n:\n",
    "    print(i)\n",
    "    i=i+1\n",
    "print('done with the run ')"
   ]
  },
  {
   "cell_type": "code",
   "execution_count": 1,
   "metadata": {},
   "outputs": [
    {
     "name": "stdout",
     "output_type": "stream",
     "text": [
      "15000.0\n"
     ]
    }
   ],
   "source": [
    "salary = float(input('Enter your salary:'))\n",
    "Gender = input('Enter your Gender: For male type M and for female then F :')\n",
    "\n",
    "if(salary <10) and (Gender =='M'):\n",
    "    tax=0.05*salary\n",
    "elif(salary <10) and (Gender =='F'):\n",
    "    tax = 0.03*salary\n",
    "elif(salary <20) and (Gender =='M'):\n",
    "    tax = 0.1*salary\n",
    "elif(salary <20) and (Gender =='F'):\n",
    "    tax = 0.08*salary\n",
    "elif(salary <30) and (Gender =='M'):\n",
    "    tax = 0.15*salary\n",
    "elif(salary <30) and (Gender =='F'):\n",
    "    tax = 0.12*salary\n",
    "elif(salary <40) and (Gender =='M'):\n",
    "    tax = 0.2*salary \n",
    "elif(salary <40) and (Gender =='F'):\n",
    "    tax = 0.17*salary \n",
    "elif(salary >40) and (Gender =='M'):\n",
    "    tax = 0.3*salary \n",
    "else:\n",
    "    tax=0.27*salary\n",
    "print(tax)\n",
    "\n"
   ]
  }
 ],
 "metadata": {
  "kernelspec": {
   "display_name": "Python 3",
   "language": "python",
   "name": "python3"
  },
  "language_info": {
   "codemirror_mode": {
    "name": "ipython",
    "version": 3
   },
   "file_extension": ".py",
   "mimetype": "text/x-python",
   "name": "python",
   "nbconvert_exporter": "python",
   "pygments_lexer": "ipython3",
   "version": "3.10.5"
  }
 },
 "nbformat": 4,
 "nbformat_minor": 2
}
